{
 "cells": [
  {
   "cell_type": "markdown",
   "id": "d85f33e2-a2c3-431e-bd8f-7f5dfde8db2a",
   "metadata": {},
   "source": [
    "* **`thread_id` is the key driver of short-term (thread-scoped) memory** in LangGraph—it binds the persistent state and checkpoints of a specific conversational flow. If you reuse the same `thread_id`, all prior context remains active, regardless of the `user_id` ([langchain-ai.github.io][1]).\n",
    "* **`user_id` governs long-term memory**, stored separately in a Store (e.g., `InMemoryStore`, PostgresStore), and is shared across different threads. It **does not affect thread-scoped memory** .\n",
    "* **To isolate conversations**, always use a fresh `thread_id` for each session; changing only `user_id` won’t clear the conversation’s history.\n",
    "\n",
    "[1]: https://langchain-ai.github.io/langgraph/concepts/persistence/?utm_source=chatgpt.com \"LangGraph Persistence - Overview\"\n"
   ]
  },
  {
   "cell_type": "markdown",
   "id": "8eae7e06-53dc-4366-8bbe-0cb5a5c0d329",
   "metadata": {},
   "source": [
    "# Loading env Variables"
   ]
  },
  {
   "cell_type": "code",
   "execution_count": 2,
   "id": "7077fbf6-a6d3-434e-b5e9-083896c55be1",
   "metadata": {},
   "outputs": [],
   "source": [
    "import os\n",
    "from dotenv import load_dotenv\n",
    "\n",
    "load_dotenv()  # Load environment variables from a .env file\n",
    "\n",
    "# Access API keys and credentials\n",
    "OPENAI_API_KEY    = os.environ[\"OPENAI_API_KEY\"]\n",
    "TIMESCALE_DB_URI  = os.environ[\"TIMESCALE_DB_URI\"]\n",
    "TAVILY_API_KEY    = os.environ[\"TAVILY_API_KEY\"]\n",
    "LANGCHAIN_API_KEY = os.environ[\"LANGCHAIN_API_KEY\"] \n",
    "MAIN_AGENT_DB_URI = os.environ[\"MAIN_AGENT_DB_URI\"]\n",
    "\n",
    "# os.environ[\"LANGCHAIN_TRACING_V2\"] = \"true\"\n",
    "# os.environ[\"LANGCHAIN_PROJECT\"]    = \"langchain-academy\"\n"
   ]
  },
  {
   "cell_type": "markdown",
   "id": "615e9253-3415-4347-8d97-92a62569823f",
   "metadata": {},
   "source": [
    "# Defining the agent"
   ]
  },
  {
   "cell_type": "code",
   "execution_count": null,
   "id": "a9219337-7ab6-4fdf-bc29-af302919f955",
   "metadata": {},
   "outputs": [],
   "source": [
    "# # -------------------------\n",
    "# # IMPORTS\n",
    "# # -------------------------\n",
    "\n",
    "# from IPython.display import Image, display\n",
    "# from langgraph.graph import StateGraph, MessagesState, START, END\n",
    "# from langchain_core.messages import HumanMessage, SystemMessage\n",
    "\n",
    "# from langgraph.prebuilt import ToolNode, tools_condition\n",
    "# from langgraph.store.memory import InMemoryStore\n",
    "# from langchain_core.runnables.config import RunnableConfig\n",
    "# from langgraph.checkpoint.memory import MemorySaver\n",
    "# from langgraph.store.base import BaseStore\n",
    "\n",
    "# from pydantic import BaseModel, Field\n",
    "# from trustcall import create_extractor\n",
    "\n",
    "# from langchain_core.documents import Document\n",
    "# from langchain_core.messages import merge_message_runs\n",
    "\n",
    "# import uuid\n",
    "# from langchain_core.messages import HumanMessage, AIMessage\n",
    "# from langchain_openai import ChatOpenAI\n",
    "\n",
    "# from psycopg_pool import ConnectionPool\n",
    "# from langgraph.checkpoint.postgres import PostgresSaver\n",
    "\n",
    "# from typing import Optional, TypedDict, Literal\n",
    "# from datetime import datetime\n",
    "\n",
    "\n",
    "# # -------------------------\n",
    "# # DATABASE SETUP\n",
    "# # -------------------------\n",
    "\n",
    "# # Connection settings for PostgreSQL (used for cross-thread memory)\n",
    "# connection_kwargs = {\"autocommit\": True, \"prepare_threshold\": 0}\n",
    "\n",
    "# # Initialize a persistent connection pool for efficient DB access\n",
    "# pool = ConnectionPool(conninfo=MAIN_AGENT_DB_URI, max_size=20, kwargs=connection_kwargs)\n",
    "\n",
    "# # Create a Postgres-backed checkpointer to persist state\n",
    "# checkpointer = PostgresSaver(pool)\n",
    "# checkpointer.setup()  # Ensures that the necessary tables are created\n",
    "\n",
    "\n",
    "# # -------------------------\n",
    "# # GRAPH STATE SCHEMA\n",
    "# # -------------------------\n",
    "\n",
    "# class GraphState(MessagesState):\n",
    "#     \"\"\"Defines the main data structure used for graph state management.\"\"\"\n",
    "#     question:            str\n",
    "#     documents:           list[Document]\n",
    "#     candidate_answer:    str\n",
    "#     retries:             int\n",
    "#     web_fallback:        bool\n",
    "#     scrag_tool_call_id:  str\n",
    "\n",
    "\n",
    "# # -------------------------\n",
    "# # MODEL SETUP\n",
    "# # -------------------------\n",
    "\n",
    "# # Initialize OpenAI's GPT model\n",
    "# model = ChatOpenAI(model=\"gpt-4.1-nano-2025-04-14\", temperature=0)\n",
    "\n",
    "# # In-memory store for within-thread memory (temporary and session-limited)\n",
    "# across_thread_memory = InMemoryStore()\n",
    "\n",
    "\n",
    "# # -------------------------\n",
    "# # SYSTEM PROMPT FOR MODEL\n",
    "# # -------------------------\n",
    "\n",
    "# MODEL_SYSTEM_MESSAGE = \"\"\"You are a helpful chatbot. \n",
    "\n",
    "# You have a long-term memory which stores general user information.\n",
    "\n",
    "# <user_profile>\n",
    "# {user_profile}\n",
    "# </user_profile>\n",
    "\n",
    "# Instructions:\n",
    "\n",
    "# 1. Analyze the user's message carefully.\n",
    "\n",
    "# 2. If personal information is present, update the user profile via `Routing_Decision` with `update_type='prof'`.\n",
    "\n",
    "# 3. Do not inform the user if you updated the profile unless they explicitly ask for it.\n",
    "\n",
    "# 4. If the user's name is known, use it directly without updating the profile.\n",
    "\n",
    "# 5. For calculations, call `Routing_Decision` with `update_type='calc'`.\n",
    "\n",
    "# 6. For scientific queries, invoke `Routing_Decision` with `update_type='rag'`.\n",
    "\n",
    "# 7. After the RAG tool's message, just reply: \"I hope this answers your question.\"\n",
    "\n",
    "# 8. Verify each calculation by calling `Routing_Decision` with `update_type='calc'`. Perform all steps by calling the calc tool.\n",
    "# \"\"\"\n",
    "\n",
    "\n",
    "# class Routing_Decision(TypedDict):\n",
    "#     \"\"\"Specifies the type of action the assistant should take.\"\"\"\n",
    "#     update_type: Literal['prof', 'calc', 'rag']\n",
    "\n",
    "\n",
    "# # -------------------------\n",
    "# # FUNCTION: Call model\n",
    "# # -------------------------\n",
    "\n",
    "# def call_model(state: GraphState, config: RunnableConfig, store: BaseStore):\n",
    "#     \"\"\"\n",
    "#     Loads the user's long-term memory from the store and generates a personalized response \n",
    "#     using the system prompt and conversation history.\n",
    "#     \"\"\"\n",
    "#     user_id = config[\"configurable\"][\"user_id\"]\n",
    "#     namespace = (\"profile\", user_id)\n",
    "\n",
    "#     # Retrieve existing long-term memory records from the database\n",
    "#     with SessionLocal() as db:\n",
    "#         user_records = db.query(LTM_Table_Skeleton).filter(LTM_Table_Skeleton.user_id == user_id).all() ######################################################\n",
    "\n",
    "#     # Set and store retrieved memory (if any)\n",
    "#     current_user_record = None if len(user_records) == 0 else user_records[0]\n",
    "#     if current_user_record:\n",
    "#         store.put(namespace=namespace, key=current_user_record.memory_key, value=current_user_record.memory_value)\n",
    "\n",
    "#     # Search the memory store for user profile data\n",
    "#     memories = store.search(namespace)\n",
    "#     user_profile = memories[0].value if memories else None\n",
    "\n",
    "#     # Format and invoke the model\n",
    "#     system_msg = MODEL_SYSTEM_MESSAGE.format(user_profile=user_profile)\n",
    "#     response = model.bind_tools([Routing_Decision], parallel_tool_calls=False).invoke(\n",
    "#         [SystemMessage(content=system_msg)] + state[\"messages\"]\n",
    "#     )\n",
    "#     return {'messages': [response]}\n",
    "\n",
    "\n",
    "# # -------------------------\n",
    "# # FUNCTION: Perform calculations\n",
    "# # -------------------------\n",
    "\n",
    "# def calculations(state: GraphState, config: RunnableConfig, store: BaseStore):\n",
    "#     \"\"\"\n",
    "#     Invokes the appropriate calculator tool and returns the formatted result.\n",
    "#     \"\"\"\n",
    "#     response = model.bind_tools([arithmetic_calculator], parallel_tool_calls=False).invoke(state[\"messages\"][:-1])\n",
    "#     args = response.tool_calls[0]['args']\n",
    "#     result = arithmetic_calculator(args['n1'], args['n2'], args['ops'])\n",
    "#     content = f\"{args['n1']} {args['ops']} {args['n2']} = {result}\"\n",
    "\n",
    "#     tool_calls = state['messages'][-1].tool_calls\n",
    "#     return {\"messages\": [{\"role\": \"tool\", \"content\": content, \"tool_call_id\": tool_calls[0]['id']}]}\n",
    "\n",
    "\n",
    "# # -------------------------\n",
    "# # FUNCTION: Pass message to RAG agent\n",
    "# # -------------------------\n",
    "\n",
    "# def interim_rag_node(state: GraphState, config: RunnableConfig, store: BaseStore):\n",
    "#     \"\"\"\n",
    "#     Forwards the request to the self-corrective RAG agent.\n",
    "#     \"\"\"\n",
    "#     tool_calls = state['messages'][-1].tool_calls\n",
    "#     return {\"messages\": [{\"role\": \"tool\", \"content\": \"Passed on the request to self_corrective_rag_agent subgraph\", \"tool_call_id\": tool_calls[0]['id']}]}\n",
    "\n",
    "\n",
    "# # -------------------------\n",
    "# # USER PROFILE MODEL\n",
    "# # -------------------------\n",
    "\n",
    "# class Profile(BaseModel):\n",
    "#     \"\"\"Represents structured user profile information.\"\"\"\n",
    "#     name:        Optional[str]  = Field(description=\"User's name\",                                              default=None)\n",
    "#     bachelor:    Optional[str]  = Field(description=\"Bachelor's degree subject\",                                default=None)\n",
    "#     master:      Optional[str]  = Field(description=\"Master's degree subject\",                                  default=None)\n",
    "#     phd:         Optional[str]  = Field(description=\"PhD subject\",                                              default=None)\n",
    "#     connections: list[str]      = Field(description=\"User's personal connections (friends, family, coworkers)\", default_factory=list)\n",
    "#     interests:   list[str]      = Field(description=\"User's interests\",                                         default_factory=list)\n",
    "\n",
    "\n",
    "# # -------------------------\n",
    "# # TRUSTCALL EXTRACTOR SETUP\n",
    "# # -------------------------\n",
    "\n",
    "# # Create a Trustcall extractor to update the user profile\n",
    "# profile_extractor = create_extractor(\n",
    "#     model,\n",
    "#     tools=[Profile],\n",
    "#     tool_choice=\"Profile\",\n",
    "# )\n",
    "\n",
    "# # Instruction to guide Trustcall memory extraction\n",
    "# TRUSTCALL_INSTRUCTION = \"\"\"Reflect on following interaction. \n",
    "\n",
    "# Use the provided tools to retain any necessary memories about the user. Specifically, extract the subject in which the user earned their bachelor's degree.\n",
    "\n",
    "# Use parallel tool calling to handle updates and insertions simultaneously.\n",
    "\n",
    "# System Time: {time}\"\"\"\n",
    "\n",
    "\n",
    "# # -------------------------\n",
    "# # FUNCTION: Update user profile\n",
    "# # -------------------------\n",
    "\n",
    "# def update_profile(state: GraphState, config: RunnableConfig, store: BaseStore):\n",
    "#     \"\"\"\n",
    "#     Uses the Trustcall extractor to analyze chat history and update the user's long-term memory.\n",
    "#     \"\"\"\n",
    "#     user_id = config[\"configurable\"][\"user_id\"]\n",
    "#     namespace = (\"profile\", user_id)\n",
    "\n",
    "#     # Retrieve current user record (if any) and load it into the memory store\n",
    "#     with SessionLocal() as db:\n",
    "#         user_records = db.query(LTM_Table_Skeleton).filter(LTM_Table_Skeleton.user_id == user_id).all() ###############################################\n",
    "\n",
    "#     current_user_record = None if len(user_records) == 0 else user_records[0]\n",
    "#     if current_user_record:\n",
    "#         store.put(namespace=namespace, key=current_user_record.memory_key, value=current_user_record.memory_value)\n",
    "\n",
    "#     # Prepare existing memory for the extractor\n",
    "#     existing_items = store.search(namespace)\n",
    "#     existing_memories = [(item.key, \"Profile\", item.value) for item in existing_items] if existing_items else None\n",
    "\n",
    "#     # Merge messages and format instruction\n",
    "#     updated_messages = list(merge_message_runs(messages=[\n",
    "#         SystemMessage(content=TRUSTCALL_INSTRUCTION.format(time=datetime.now().isoformat()))\n",
    "#     ] + state[\"messages\"][:-1]))\n",
    "\n",
    "#     # Run the extractor\n",
    "#     result = profile_extractor.invoke({\"messages\": updated_messages, \"existing\": existing_memories})\n",
    "\n",
    "#     # Store updated memories\n",
    "#     for r, rmeta in zip(result[\"responses\"], result[\"response_metadata\"]):\n",
    "#         store.put(namespace, rmeta.get(\"json_doc_id\", str(uuid.uuid4())), r.model_dump(mode=\"json\"))\n",
    "\n",
    "#     # Persist the memory to the database\n",
    "#     current_pydantic_ltm = langgraph_ltm_to_pydantic_ltm(store.search(namespace)[0])\n",
    "#     with SessionLocal() as db:\n",
    "#         replace_ltm_in_db(current_pydantic_ltm, db)\n",
    "\n",
    "#     tool_calls = state['messages'][-1].tool_calls\n",
    "#     return {\"messages\": [{\"role\": \"tool\", \"content\": \"updated profile\", \"tool_call_id\": tool_calls[0]['id']}]}\n",
    "\n",
    "\n",
    "# # -------------------------\n",
    "# # FUNCTION: Routing logic\n",
    "# # -------------------------\n",
    "\n",
    "# def route_message(state: GraphState, config: RunnableConfig, store: BaseStore) -> Literal['calculations', 'update_profile', 'self_corrective_rag_agent', END]:\n",
    "#     \"\"\"\n",
    "#     Determines the next action based on tool call arguments:\n",
    "#     - Profile update\n",
    "#     - Calculation\n",
    "#     - RAG query\n",
    "#     \"\"\"\n",
    "#     message = state['messages'][-1]\n",
    "#     if len(message.tool_calls) == 0:\n",
    "#         return END\n",
    "\n",
    "#     tool_call = message.tool_calls[0]\n",
    "#     action = tool_call['args']['update_type']\n",
    "\n",
    "#     if action == \"prof\":\n",
    "#         return \"update_profile\"\n",
    "#     elif action == \"calc\":\n",
    "#         return \"calculations\"\n",
    "#     elif action == \"rag\":\n",
    "#         return \"interim_rag_node\"\n",
    "#     else:\n",
    "#         raise ValueError(f\"Unexpected update_type: {action}\")\n",
    "\n",
    "\n"
   ]
  },
  {
   "cell_type": "code",
   "execution_count": null,
   "id": "ae1bb772-a9fb-4860-9873-899b80831100",
   "metadata": {},
   "outputs": [],
   "source": []
  },
  {
   "cell_type": "code",
   "execution_count": null,
   "id": "abba43ed-f158-428c-8c19-c08c2abcda6b",
   "metadata": {},
   "outputs": [],
   "source": []
  },
  {
   "cell_type": "code",
   "execution_count": null,
   "id": "c9768f58-37ef-4c6c-bcfc-0c18bdf93308",
   "metadata": {},
   "outputs": [],
   "source": []
  },
  {
   "cell_type": "code",
   "execution_count": null,
   "id": "04b4fbb1-bdab-4f43-8277-fd922a963ef4",
   "metadata": {},
   "outputs": [],
   "source": []
  },
  {
   "cell_type": "code",
   "execution_count": null,
   "id": "3f63f107-07d1-49a3-a8ac-9e4cbada3762",
   "metadata": {},
   "outputs": [],
   "source": []
  },
  {
   "cell_type": "code",
   "execution_count": null,
   "id": "7b67d606-b570-4238-8023-d2b2e32287f7",
   "metadata": {},
   "outputs": [],
   "source": []
  },
  {
   "cell_type": "code",
   "execution_count": null,
   "id": "b5c2cda6-19ef-4113-b985-93b61c428736",
   "metadata": {},
   "outputs": [],
   "source": []
  },
  {
   "cell_type": "code",
   "execution_count": null,
   "id": "ad50932b-6e0f-4072-9d39-cfef918bbb54",
   "metadata": {},
   "outputs": [],
   "source": []
  },
  {
   "cell_type": "code",
   "execution_count": null,
   "id": "a8580636-3fec-428c-879d-3e6f707409ef",
   "metadata": {},
   "outputs": [],
   "source": []
  },
  {
   "cell_type": "code",
   "execution_count": null,
   "id": "9159ff24-45cc-4cd9-ad1c-d722f5f90767",
   "metadata": {},
   "outputs": [],
   "source": []
  },
  {
   "cell_type": "code",
   "execution_count": 1,
   "id": "1248f884-0b8d-473e-8e74-71b6b8f3e322",
   "metadata": {},
   "outputs": [],
   "source": [
    "# 1) Make sure the .env from the repo root is loaded into the current process\n",
    "from dotenv import load_dotenv, find_dotenv\n",
    "load_dotenv(find_dotenv(\".env\", usecwd=True))  # searches upward from CWD\n",
    "\n",
    "import os\n",
    "assert os.getenv(\"OPENAI_API_KEY\"), \"OPENAI_API_KEY not found after loading .env\"\n",
    "\n",
    "# 2) Ensure the project 'src' is on sys.path\n",
    "import sys, os\n",
    "sys.path.insert(0, os.path.abspath(\"..\"))  # now 'src' is on path\n",
    "\n",
    "# # --- Option A: import via the package (may import other agents too)\n",
    "# from agents.interrupt_agent import interrupt_agent\n"
   ]
  },
  {
   "cell_type": "code",
   "execution_count": 4,
   "id": "09bbfc00-727d-4ece-9d90-a2ee934e0b04",
   "metadata": {},
   "outputs": [],
   "source": [
    "# from psycopg_pool import ConnectionPool\n",
    "# from langgraph.checkpoint.postgres import PostgresSaver\n",
    "\n",
    "# # -------------------------\n",
    "# # DATABASE SETUP\n",
    "# # -------------------------\n",
    "\n",
    "# # Connection settings for PostgreSQL (used for cross-thread memory)\n",
    "# connection_kwargs = {\"autocommit\": True, \"prepare_threshold\": 0}\n",
    "\n",
    "# # Initialize a persistent connection pool for efficient DB access\n",
    "# pool = ConnectionPool(conninfo=MAIN_AGENT_DB_URI, max_size=20, kwargs=connection_kwargs)\n",
    "\n",
    "# # Create a Postgres-backed checkpointer to persist state\n",
    "# checkpointer = PostgresSaver(pool)\n",
    "# checkpointer.setup()  # Ensures that the necessary tables are created"
   ]
  },
  {
   "cell_type": "code",
   "execution_count": null,
   "id": "c5d362f1-d7be-41ae-a5ef-868058f2ae44",
   "metadata": {},
   "outputs": [],
   "source": []
  },
  {
   "cell_type": "code",
   "execution_count": null,
   "id": "f9661748-7cfe-46a1-bf3e-fecd26421f8a",
   "metadata": {},
   "outputs": [],
   "source": []
  },
  {
   "cell_type": "code",
   "execution_count": 29,
   "id": "14c25654-e136-4363-8aca-4625d2dc8027",
   "metadata": {},
   "outputs": [],
   "source": [
    "# -------------------------\n",
    "# MODEL SETUP\n",
    "# -------------------------\n",
    "from langchain_openai import ChatOpenAI\n",
    "\n",
    "# Initialize OpenAI's GPT model\n",
    "model = ChatOpenAI(model=\"gpt-5-nano-2025-08-07\", reasoning_effort='low', streaming=True, model_kwargs={\"text\": {\"verbosity\": \"low\"}})\n"
   ]
  },
  {
   "cell_type": "code",
   "execution_count": 3,
   "id": "fb5a569f-172c-4fa1-a1b7-a5dc294d45b6",
   "metadata": {},
   "outputs": [
    {
     "data": {
      "text/plain": [
       "AIMessage(content='4', additional_kwargs={}, response_metadata={'finish_reason': 'stop', 'model_name': 'gpt-5-nano-2025-08-07', 'service_tier': 'default'}, id='run--b420cf73-ba3b-4dd4-ae2f-9696a8e03394-0')"
      ]
     },
     "execution_count": 3,
     "metadata": {},
     "output_type": "execute_result"
    }
   ],
   "source": [
    "model.invoke(input='2+2 ?')"
   ]
  },
  {
   "cell_type": "code",
   "execution_count": null,
   "id": "f4341ae2-00a3-464b-88c3-0753d4b3b5f5",
   "metadata": {},
   "outputs": [],
   "source": []
  },
  {
   "cell_type": "code",
   "execution_count": 4,
   "id": "189549d7-ac29-4702-8221-71523768bad2",
   "metadata": {},
   "outputs": [],
   "source": [
    "# -------------------------\n",
    "# MODEL SETUP\n",
    "# -------------------------\n",
    "from langchain_openai import ChatOpenAI\n",
    "\n",
    "# Initialize OpenAI's GPT model\n",
    "model = ChatOpenAI(model=\"gpt-5-nano-2025-08-07\", reasoning_effort='low', streaming=True)\n"
   ]
  },
  {
   "cell_type": "code",
   "execution_count": 5,
   "id": "9d8c7613-1cdd-4813-bf7d-ad8488e90e28",
   "metadata": {},
   "outputs": [
    {
     "data": {
      "text/plain": [
       "AIMessage(content='4', additional_kwargs={}, response_metadata={'finish_reason': 'stop', 'model_name': 'gpt-5-nano-2025-08-07', 'service_tier': 'default'}, id='run--d114832f-5ed3-4bf6-9bc3-83d1c3fa8eb9-0')"
      ]
     },
     "execution_count": 5,
     "metadata": {},
     "output_type": "execute_result"
    }
   ],
   "source": [
    "model.invoke(input='2+2 ?')"
   ]
  },
  {
   "cell_type": "code",
   "execution_count": null,
   "id": "7d43176a-d239-4a4b-9ea5-4917ae72ff1b",
   "metadata": {},
   "outputs": [],
   "source": []
  },
  {
   "cell_type": "code",
   "execution_count": null,
   "id": "708203e7-b19f-463d-838e-93aa456b465f",
   "metadata": {},
   "outputs": [],
   "source": []
  },
  {
   "cell_type": "code",
   "execution_count": null,
   "id": "be843cc0-abee-4e74-ba13-d22135559d78",
   "metadata": {},
   "outputs": [],
   "source": []
  },
  {
   "cell_type": "code",
   "execution_count": null,
   "id": "c92a9197-ef22-4964-ab47-9c1918baba95",
   "metadata": {},
   "outputs": [],
   "source": []
  },
  {
   "cell_type": "code",
   "execution_count": 19,
   "id": "774545cf-082c-48bb-8cae-f631dcde0ed0",
   "metadata": {},
   "outputs": [],
   "source": [
    "from langchain_core.runnables.config import RunnableConfig\n",
    "from langgraph.store.base import BaseStore\n",
    "from langgraph.graph import StateGraph, MessagesState, START, END\n",
    "\n",
    "MODEL_SYSTEM_MESSAGE = \"\"\" You are a helpful chatbot on the website of an accounting firm.\n",
    "Your role is to provide users with accurate information about the firm’s services.\n",
    "The details of services provided by the accounting firm are as follows:\n",
    "\n",
    "<accounting_services>\n",
    "{accounting_services}\n",
    "</accounting_services>\n",
    "\"\"\"\n",
    "\n",
    "accounting_services = 'null'\n",
    "\n",
    "# Note: it's wrong if:\n",
    "# def call_model(state: StateGraph .\n",
    "# if u want to do that then first define 'StateGraph', fully like i did in the multi_agent_system, otherwise it won't work ...\n",
    "\n",
    "async def call_model(state: MessagesState, config: RunnableConfig, store: BaseStore):\n",
    "    # Format and invoke the model\n",
    "    system_msg = MODEL_SYSTEM_MESSAGE.format(accounting_services=accounting_services)\n",
    "    response   = await model.ainvoke(\n",
    "        input  = [SystemMessage(content=system_msg)] + state[\"messages\"],\n",
    "        config = config\n",
    "    )\n",
    "    return {'messages': [response]}\n",
    "\n",
    "\n"
   ]
  },
  {
   "cell_type": "code",
   "execution_count": null,
   "id": "490cbc1c-f3b4-4889-abaf-bd3150fbe52b",
   "metadata": {},
   "outputs": [],
   "source": []
  },
  {
   "cell_type": "code",
   "execution_count": null,
   "id": "a5effb88-c0ef-4c0e-ac8a-02eb3e789b8e",
   "metadata": {},
   "outputs": [],
   "source": []
  },
  {
   "cell_type": "code",
   "execution_count": null,
   "id": "ae6c7f63-cf04-48a9-9cbe-2d537ac96af0",
   "metadata": {},
   "outputs": [],
   "source": []
  },
  {
   "cell_type": "code",
   "execution_count": 20,
   "id": "1edaadb0-051b-4eb7-a879-e3f7a134b4dd",
   "metadata": {},
   "outputs": [],
   "source": [
    "# -------------------------\n",
    "# BUILD THE GRAPH\n",
    "# -------------------------\n",
    "\n",
    "\n",
    "from IPython.display import Image, display\n",
    "from langgraph.graph import StateGraph, START, END\n",
    "from langchain_core.messages import HumanMessage, SystemMessage\n",
    "\n",
    "\n",
    "#builder = StateGraph(GraphState)\n",
    "builder = StateGraph(MessagesState)\n",
    "\n",
    "builder.add_node(\"call_model\", call_model)\n",
    "#builder.add_node(\"interim_rag_node\", interim_rag_node)\n",
    "#builder.add_node(\"self_corrective_rag_agent\", Self_Corrective_RAG_Agent.compile())\n",
    "\n",
    "builder.add_edge(START, \"call_model\")\n",
    "#builder.add_edge(\"interim_rag_node\", \"self_corrective_rag_agent\")\n",
    "#builder.add_edge(\"self_corrective_rag_agent\", END)\n",
    "#builder.add_conditional_edges('call_model', route_message, [\"interim_rag_node\", END])\n",
    "builder.add_edge('call_model', END)\n",
    "\n",
    "\n",
    "# Compile the graph with persistent checkpointer and in-memory store\n",
    "graph = builder.compile()#checkpointer=memory, store=across_thread_memory) #checkpointer\n",
    "\n"
   ]
  },
  {
   "cell_type": "code",
   "execution_count": 21,
   "id": "2556f348-d353-458c-93be-11748db054e6",
   "metadata": {},
   "outputs": [
    {
     "data": {
      "image/png": "[encoded data removed]",
      "text/plain": [
       "<IPython.core.display.Image object>"
      ]
     },
     "metadata": {},
     "output_type": "display_data"
    }
   ],
   "source": [
    "# View\n",
    "try:\n",
    "    display(Image(graph.get_graph().draw_mermaid_png()))\n",
    "except:\n",
    "    print(graph.get_graph().draw_ascii(), '\\n\\n')\n",
    "    print(graph.get_graph().draw_mermaid())\n",
    "# https://mermaid.live/edit#pako:eNp1Ul2PmzAQ_CvWVlESCSjfSXynvFx-Qp9aTsgHdrBqbGTMtVfEf6-BHHdU6duOZ3Zn1nYPhSopYNhsei65wajfMqF-FRXRZjuiotOv1FZbwSUlejsMw2aTyasmTYW-XR4ymZk8b43V5_nux2NzXtDj1-b8vMcYM65bMwoLIkReW0ex-yj3N6boBDFcyXb3GUxs15TE0LzRinFBd2u4nyNQWS4BpnqxF2R2X4Ih1z2jjwAP_wa4x689_zPhBpHrzfQy8a5gPfKu5LbKzNk92gtlqKSMdMIg2yXwFxYynzFnfB63ovxaGRx44aphuv9J7qqGFNy8YX8lGG_oNu6FvaSsAAeumpeAje6oAzXVNRkh9JlEKANT0ZpmgG1ZEv0zg0wOtqch8rtS9XubVt21AsyIaC2a171wYv9OvZxquyDVT6qTBnB68qchgHv4DThIDp4fB2kchFESJUGSOvBmj1PvEPtRcAxPxyg6HeN4cODP5Ot7aRBExzSOQj9K0jA5DH8BLyP9pw\n"
   ]
  },
  {
   "cell_type": "code",
   "execution_count": null,
   "id": "8a99b738-79f8-4207-9212-6c4fdc73ef44",
   "metadata": {},
   "outputs": [],
   "source": []
  },
  {
   "cell_type": "code",
   "execution_count": 4,
   "id": "6761dcc3-a02e-49b2-b801-396014483106",
   "metadata": {},
   "outputs": [
    {
     "data": {
      "image/png": "[encoded data removed]",
      "text/plain": [
       "<IPython.core.display.Image object>"
      ]
     },
     "metadata": {},
     "output_type": "display_data"
    }
   ],
   "source": [
    "from langgraph.graph import END, MessagesState, StateGraph\n",
    "from langchain_core.runnables import RunnableConfig\n",
    "from langchain_core.messages import HumanMessage, SystemMessage, AIMessage\n",
    "\n",
    "from core import get_model, settings\n",
    "\n",
    "\n",
    "class AgentState(MessagesState, total=False):\n",
    "    \"\"\"`total=False` marks fields added here as optional (PEP 589),\n",
    "    while inherited fields (like `messages` from MessagesState) keep their original requirements.\n",
    "\n",
    "    documentation: https://typing.readthedocs.io/en/latest/spec/typeddict.html#totality\n",
    "    \"\"\"\n",
    "    # # Safety metadata from LlamaGuard (populated by guard nodes)\n",
    "    # safety: LlamaGuardOutput\n",
    "\n",
    "    # # LangGraph-managed remaining step budget for the current run\n",
    "    # remaining_steps: RemainingSteps\n",
    "\n",
    "\n",
    "MODEL_SYSTEM_MESSAGE = \"\"\" You are a helpful chatbot on the website of an accounting firm.\n",
    "Your role is to provide users with accurate information about the firm’s services.\n",
    "The details of services provided by the accounting firm are as follows:\n",
    "\n",
    "<accounting_services>\n",
    "{accounting_services}\n",
    "</accounting_services>\n",
    "\"\"\"\n",
    "\n",
    "accounting_services = 'null'\n",
    "\n",
    "\n",
    "async def acall_model(state: AgentState, config: RunnableConfig) -> AgentState:\n",
    "    \"\"\"Main model node:\n",
    "       - Selects the concrete model (from config or default),\n",
    "       - Runs the tool-enabled chat model,\n",
    "       - Post-checks the output with LlamaGuard,\n",
    "       - Enforces step budget if tool calls remain.\"\"\"\n",
    "    \n",
    "    model      = get_model(config[\"configurable\"].get(\"model\", settings.DEFAULT_MODEL))\n",
    "    system_msg = MODEL_SYSTEM_MESSAGE.format(accounting_services=accounting_services)\n",
    "    response   = await model.ainvoke(\n",
    "        [SystemMessage(content=system_msg)] + state[\"messages\"],\n",
    "        config=config\n",
    "    )\n",
    "    \n",
    "    return {\"messages\": [response]}\n",
    "\n",
    "\n",
    "\n",
    "# -------------------------\n",
    "# BUILD THE GRAPH\n",
    "# -------------------------\n",
    "\n",
    "\n",
    "from IPython.display import Image, display\n",
    "from langgraph.graph import StateGraph, START, END\n",
    "from langchain_core.messages import HumanMessage, SystemMessage\n",
    "\n",
    "\n",
    "builder = StateGraph(AgentState)\n",
    "\n",
    "builder.add_node(\"acall_model\", acall_model)\n",
    "\n",
    "builder.set_entry_point(\"acall_model\")\n",
    "builder.add_edge('acall_model', END)\n",
    "\n",
    "\n",
    "# Compile the graph with persistent checkpointer and in-memory store\n",
    "graph = builder.compile()#checkpointer=memory, store=across_thread_memory) #checkpointer\n",
    "\n",
    "\n",
    "\n",
    "# View\n",
    "try:\n",
    "    display(Image(graph.get_graph().draw_mermaid_png()))\n",
    "except:\n",
    "    print(graph.get_graph().draw_ascii(), '\\n\\n')\n",
    "    print(graph.get_graph().draw_mermaid())\n",
    "# https://mermaid.live/edit#pako:eNp1Ul2PmzAQ_CvWVlESCSjfSXynvFx-Qp9aTsgHdrBqbGTMtVfEf6-BHHdU6duOZ3Zn1nYPhSopYNhsei65wajfMqF-FRXRZjuiotOv1FZbwSUlejsMw2aTyasmTYW-XR4ymZk8b43V5_nux2NzXtDj1-b8vMcYM65bMwoLIkReW0ex-yj3N6boBDFcyXb3GUxs15TE0LzRinFBd2u4nyNQWS4BpnqxF2R2X4Ih1z2jjwAP_wa4x689_zPhBpHrzfQy8a5gPfKu5LbKzNk92gtlqKSMdMIg2yXwFxYynzFnfB63ovxaGRx44aphuv9J7qqGFNy8YX8lGG_oNu6FvaSsAAeumpeAje6oAzXVNRkh9JlEKANT0ZpmgG1ZEv0zg0wOtqch8rtS9XubVt21AsyIaC2a171wYv9OvZxquyDVT6qTBnB68qchgHv4DThIDp4fB2kchFESJUGSOvBmj1PvEPtRcAxPxyg6HeN4cODP5Ot7aRBExzSOQj9K0jA5DH8BLyP9pw\n",
    "\n",
    "\n",
    "\n",
    "\n",
    "\n",
    "\n",
    "\n",
    "\n",
    "\n",
    "\n",
    "\n",
    "    "
   ]
  },
  {
   "cell_type": "code",
   "execution_count": null,
   "id": "0adfd499-874e-4b3f-8b91-c25c18c92023",
   "metadata": {},
   "outputs": [],
   "source": []
  },
  {
   "cell_type": "code",
   "execution_count": null,
   "id": "00ff4d43-58c7-44e0-9da0-75067717986b",
   "metadata": {},
   "outputs": [],
   "source": []
  },
  {
   "cell_type": "code",
   "execution_count": null,
   "id": "2686aab5-13cd-475c-8b74-0af0eef5e179",
   "metadata": {},
   "outputs": [],
   "source": []
  },
  {
   "cell_type": "code",
   "execution_count": null,
   "id": "f4d7fc6d-e2c9-4499-8dbe-17152ecfaf96",
   "metadata": {},
   "outputs": [],
   "source": []
  },
  {
   "cell_type": "code",
   "execution_count": null,
   "id": "23f3acb4-d1be-48ce-aa90-cf9749f92d0f",
   "metadata": {},
   "outputs": [],
   "source": []
  },
  {
   "cell_type": "code",
   "execution_count": null,
   "id": "e69edc71-ccb4-49f2-930a-c1a412b935a1",
   "metadata": {},
   "outputs": [],
   "source": []
  },
  {
   "cell_type": "code",
   "execution_count": 5,
   "id": "9dd3ca44-bef9-426c-8599-4a02b0f06421",
   "metadata": {},
   "outputs": [
    {
     "name": "stdout",
     "output_type": "stream",
     "text": [
      "Nice to meet you, Ans. I’m the accounting firm’s virtual assistant. How can I help you today—questions about our services, or would you like to be connected with a team member? If you’d prefer I use a different name or spelling, just tell me."
     ]
    }
   ],
   "source": [
    "from langgraph.checkpoint.sqlite.aio import AsyncSqliteSaver\n",
    "from langgraph.store.memory import InMemoryStore\n",
    "from langchain_core.messages import HumanMessage\n",
    "\n",
    "from core import settings\n",
    "\n",
    "store  = InMemoryStore()\n",
    "config = {\"configurable\": {\"thread_id\": \"1\", \"user_id\": \"1\"}}\n",
    "input_messages = [HumanMessage(content=\"My name is Ans? what's your name?\")] # \"What was my name?\"\n",
    "\n",
    "async with AsyncSqliteSaver.from_conn_string(settings.SQLITE_DB_PATH) as checkpointer:\n",
    "    # attach the *opened* saver and store\n",
    "    graph.checkpointer = checkpointer\n",
    "    graph.store = store\n",
    "\n",
    "    async for chunk in graph.astream({\"messages\": input_messages}, config, stream_mode=\"messages\"):\n",
    "        print(chunk[0].content, sep=' ', end='')\n"
   ]
  },
  {
   "cell_type": "code",
   "execution_count": 6,
   "id": "8e52842a-7786-427b-8a92-cf8ca8b0562b",
   "metadata": {},
   "outputs": [
    {
     "name": "stdout",
     "output_type": "stream",
     "text": [
      "Accounting is the language of business, translating financial activity into meaningful information that guides decisions. It begins with the systematic recording of every transaction, ensuring that each debit has a corresponding credit and that financial history is preserved with accuracy. From these records, accountants classify and summarize data into financial statements that reflect a company’s performance, position, and cash flow.\n",
      "\n",
      "Key statements—the balance sheet, income statement, and cash flow statement—provide a comprehensive snapshot: what the business owns, what it owes, how it earns money, and how it deploys cash. These reports enable managers to evaluate profitability, liquidity, and solvency, and they offer essential insights to investors, lenders, and regulators. Beyond reporting, accounting supports planning and control. Budgets, forecasts, and variance analyses translate past results into future expectations, guiding resource allocation and strategic priorities.\n",
      "\n",
      "Ethics and governance are integral, ensuring information is reliable, complete, and compliant with standards such as GAAP or IFRS. Internal controls and audits mitigate risk, protect assets, and reinforce trust. Technology has transformed the field, introducing automation, cloud-based platforms, and data analytics that speed processes and enhance decision-making—while demanding disciplined data governance. Ultimately, accounting connects operational activity to strategic outcomes, turning numbers into narratives that shape growth and stewardship in a dynamic economy."
     ]
    }
   ],
   "source": [
    "input_messages = [HumanMessage(content=\"A 200 words essay on accounting\")]\n",
    "\n",
    "async with AsyncSqliteSaver.from_conn_string(settings.SQLITE_DB_PATH) as checkpointer:\n",
    "    # attach the *opened* saver and store\n",
    "    graph.checkpointer = checkpointer\n",
    "    graph.store = store\n",
    "\n",
    "    async for chunk in graph.astream({\"messages\": input_messages}, config, stream_mode=\"messages\"):\n",
    "        print(chunk[0].content, sep=' ', end='')\n"
   ]
  },
  {
   "cell_type": "code",
   "execution_count": null,
   "id": "3e5090b9-3091-4aef-8f7b-1802d491f0ed",
   "metadata": {},
   "outputs": [],
   "source": []
  },
  {
   "cell_type": "code",
   "execution_count": null,
   "id": "fb8dcb83-c9f0-42be-b673-2b8d1a536c9a",
   "metadata": {},
   "outputs": [],
   "source": []
  },
  {
   "cell_type": "code",
   "execution_count": 14,
   "id": "b7165dea-850b-4611-9ffd-bbf137b34414",
   "metadata": {},
   "outputs": [
    {
     "name": "stdout",
     "output_type": "stream",
     "text": [
      "================================\u001b[1m Human Message \u001b[0m=================================\n",
      "\n",
      "What was my name?\n",
      "==================================\u001b[1m Ai Message \u001b[0m==================================\n",
      "\n",
      "Your name is Ans. If you’d like me to use a different name or spelling, just let me know. How can I help you with accounting today?\n"
     ]
    }
   ],
   "source": [
    "input_messages = [HumanMessage(content=\"What was my name?\")]\n",
    "\n",
    "async with AsyncSqliteSaver.from_conn_string(settings.SQLITE_DB_PATH) as checkpointer:\n",
    "    # attach the *opened* saver and store\n",
    "    graph.checkpointer = checkpointer\n",
    "    graph.store = store\n",
    "\n",
    "    async for chunk in graph.astream({\"messages\": input_messages}, config, stream_mode=\"values\"):\n",
    "        chunk[\"messages\"][-1].pretty_print()\n"
   ]
  },
  {
   "cell_type": "code",
   "execution_count": 6,
   "id": "0cbd925f-433e-44f5-bea1-95102ba0840c",
   "metadata": {},
   "outputs": [
    {
     "name": "stdout",
     "output_type": "stream",
     "text": [
      "./checkpoints.db deleted.\n"
     ]
    }
   ],
   "source": [
    "import os\n",
    "\n",
    "file_path = \"./checkpoints.db\"  # adjust if it's in another folder\n",
    "\n",
    "if os.path.exists(file_path):\n",
    "    os.remove(file_path)\n",
    "    print(f\"{file_path} deleted.\")\n",
    "else:\n",
    "    print(f\"{file_path} not found.\")\n"
   ]
  },
  {
   "cell_type": "code",
   "execution_count": null,
   "id": "6ea347f5-7cf8-4b01-b1e7-def8470f3064",
   "metadata": {},
   "outputs": [],
   "source": []
  },
  {
   "cell_type": "code",
   "execution_count": 12,
   "id": "a4c140f1-656b-47da-870a-0ce6866c03d3",
   "metadata": {},
   "outputs": [
    {
     "name": "stdout",
     "output_type": "stream",
     "text": [
      "================================\u001b[1m Human Message \u001b[0m=================================\n",
      "\n",
      "My name is Ans? what's your name?\n",
      "==================================\u001b[1m Ai Message \u001b[0m==================================\n",
      "\n",
      "Hello, Ans! I’m here to assist you with information about our accounting services. How can I help you today?\n"
     ]
    }
   ],
   "source": [
    "# # We supply a thread ID for short-term (within-thread) memory\n",
    "# # We supply a user ID for long-term (across-thread) memory \n",
    "# config = {\"configurable\": {\"thread_id\": \"1\", \"user_id\": \"1\"}}\n",
    "\n",
    "# # User input to create a profile memory\n",
    "# input_messages = [HumanMessage(content=\"My name is Ans? what's your name?\")]\n",
    "\n",
    "# # Run the graph\n",
    "# for chunk in graph.stream({\"messages\": input_messages}, config, stream_mode=\"values\"):\n",
    "#     chunk[\"messages\"][-1].pretty_print()\n"
   ]
  },
  {
   "cell_type": "code",
   "execution_count": 13,
   "id": "be28c34b-81a6-4d5d-becf-b9e76b57df9e",
   "metadata": {},
   "outputs": [
    {
     "name": "stdout",
     "output_type": "stream",
     "text": [
      "================================\u001b[1m Human Message \u001b[0m=================================\n",
      "\n",
      "What was my name?\n",
      "==================================\u001b[1m Ai Message \u001b[0m==================================\n",
      "\n",
      "Your name is Ans. How can I assist you further today?\n"
     ]
    }
   ],
   "source": [
    "# # User input to create a profile memory\n",
    "# input_messages = [HumanMessage(content=\"What was my name?\")]\n",
    "\n",
    "# # Run the graph\n",
    "# for chunk in graph.stream({\"messages\": input_messages}, config, stream_mode=\"values\"):\n",
    "#     chunk[\"messages\"][-1].pretty_print()\n"
   ]
  },
  {
   "cell_type": "code",
   "execution_count": null,
   "id": "59c54676-99c2-4a71-b338-5a196498a0e0",
   "metadata": {},
   "outputs": [],
   "source": []
  },
  {
   "cell_type": "code",
   "execution_count": null,
   "id": "3ac10675-e931-46a9-a310-ceddf51fa52f",
   "metadata": {},
   "outputs": [],
   "source": []
  },
  {
   "cell_type": "code",
   "execution_count": null,
   "id": "ced2c62b-0fa3-4934-ae4a-6580f08a1379",
   "metadata": {},
   "outputs": [],
   "source": []
  },
  {
   "cell_type": "code",
   "execution_count": null,
   "id": "e748ac35-d91b-47d3-ad30-167c0a811871",
   "metadata": {},
   "outputs": [],
   "source": []
  },
  {
   "cell_type": "code",
   "execution_count": null,
   "id": "3cd5204f-4c2e-4f05-9d4e-5545ea60b17e",
   "metadata": {},
   "outputs": [],
   "source": []
  },
  {
   "cell_type": "code",
   "execution_count": null,
   "id": "f3ece291-b207-48dc-817e-04a82d9efac4",
   "metadata": {},
   "outputs": [],
   "source": []
  },
  {
   "cell_type": "code",
   "execution_count": null,
   "id": "4b002064-7fd9-48c0-9ace-c41ef6ff4b8b",
   "metadata": {},
   "outputs": [],
   "source": []
  },
  {
   "cell_type": "code",
   "execution_count": null,
   "id": "6a921add-5002-4044-b537-e27060c70060",
   "metadata": {},
   "outputs": [],
   "source": []
  },
  {
   "cell_type": "code",
   "execution_count": null,
   "id": "6df2fde6-5467-42c1-98e2-d2324d9e6a12",
   "metadata": {},
   "outputs": [],
   "source": []
  },
  {
   "cell_type": "code",
   "execution_count": null,
   "id": "53300104-dea5-4eda-815c-66cf115aa318",
   "metadata": {},
   "outputs": [],
   "source": []
  },
  {
   "cell_type": "code",
   "execution_count": 10,
   "id": "9458e565-77a6-479d-af59-bd8bf796244e",
   "metadata": {},
   "outputs": [
    {
     "data": {
      "image/png": "[encoded data removed]",
      "text/plain": [
       "<IPython.core.display.Image object>"
      ]
     },
     "metadata": {},
     "output_type": "display_data"
    },
    {
     "name": "stdout",
     "output_type": "stream",
     "text": [
      "================================\u001b[1m Human Message \u001b[0m=================================\n",
      "\n",
      "What was my last question to you?\n",
      "==================================\u001b[1m Ai Message \u001b[0m==================================\n",
      "\n",
      "Your last question was, \"Hi do u remember my name?\" How can I assist you further today?\n"
     ]
    }
   ],
   "source": [
    "import os\n",
    "from dotenv import load_dotenv\n",
    "\n",
    "load_dotenv()  # Load environment variables from a .env file\n",
    "\n",
    "# Access API keys and credentials\n",
    "OPENAI_API_KEY    = os.environ[\"OPENAI_API_KEY\"]\n",
    "TIMESCALE_DB_URI  = os.environ[\"TIMESCALE_DB_URI\"]\n",
    "TAVILY_API_KEY    = os.environ[\"TAVILY_API_KEY\"]\n",
    "LANGCHAIN_API_KEY = os.environ[\"LANGCHAIN_API_KEY\"] \n",
    "MAIN_AGENT_DB_URI = os.environ[\"MAIN_AGENT_DB_URI\"]\n",
    "\n",
    "# os.environ[\"LANGCHAIN_TRACING_V2\"] = \"true\"\n",
    "# os.environ[\"LANGCHAIN_PROJECT\"]    = \"langchain-academy\"\n",
    "\n",
    "\n",
    "from psycopg_pool import ConnectionPool\n",
    "from langgraph.checkpoint.postgres import PostgresSaver\n",
    "\n",
    "# -------------------------\n",
    "# DATABASE SETUP\n",
    "# -------------------------\n",
    "\n",
    "# Connection settings for PostgreSQL (used for cross-thread memory)\n",
    "connection_kwargs = {\"autocommit\": True, \"prepare_threshold\": 0}\n",
    "\n",
    "# Initialize a persistent connection pool for efficient DB access\n",
    "pool = ConnectionPool(conninfo=MAIN_AGENT_DB_URI, max_size=20, kwargs=connection_kwargs)\n",
    "\n",
    "# Create a Postgres-backed checkpointer to persist state\n",
    "checkpointer = PostgresSaver(pool)\n",
    "checkpointer.setup()  # Ensures that the necessary tables are created\n",
    "\n",
    "\n",
    "# -------------------------\n",
    "# MODEL SETUP\n",
    "# -------------------------\n",
    "from langchain_openai import ChatOpenAI\n",
    "\n",
    "# Initialize OpenAI's GPT model\n",
    "model = ChatOpenAI(model=\"gpt-4.1-nano-2025-04-14\", temperature=0)\n",
    "\n",
    "\n",
    "from langchain_core.runnables.config import RunnableConfig\n",
    "from langgraph.store.base import BaseStore\n",
    "from langgraph.graph import StateGraph, MessagesState, START, END\n",
    "\n",
    "MODEL_SYSTEM_MESSAGE = \"\"\" You are a helpful chatbot on the website of an accounting firm.\n",
    "Your role is to provide users with accurate information about the firm’s services.\n",
    "The details of services provided by the accounting firm are as follows:\n",
    "\n",
    "<accounting_services>\n",
    "{accounting_services}\n",
    "</accounting_services>\n",
    "\"\"\"\n",
    "\n",
    "accounting_services = 'null'\n",
    "\n",
    "# Note: it's wrong if:\n",
    "# def call_model(state: StateGraph .\n",
    "# if u want to do that then first define 'StateGraph', fully like i did in the multi_agent_system, otherwise it won't work ...\n",
    "\n",
    "def call_model(state: MessagesState, config: RunnableConfig, store: BaseStore):\n",
    "    # Format and invoke the model\n",
    "    system_msg = MODEL_SYSTEM_MESSAGE.format(accounting_services=accounting_services)\n",
    "    response   = model.invoke(\n",
    "        [SystemMessage(content=system_msg)] + state[\"messages\"]\n",
    "    )\n",
    "    return {'messages': [response]}\n",
    "\n",
    "\n",
    "\n",
    "# -------------------------\n",
    "# BUILD THE GRAPH\n",
    "# -------------------------\n",
    "\n",
    "\n",
    "from IPython.display import Image, display\n",
    "from langgraph.graph import StateGraph, START, END\n",
    "from langchain_core.messages import HumanMessage, SystemMessage\n",
    "\n",
    "\n",
    "builder = StateGraph(MessagesState)\n",
    "\n",
    "builder.add_node(\"call_model\", call_model)\n",
    "\n",
    "builder.add_edge(START, \"call_model\")\n",
    "builder.add_edge('call_model', END)\n",
    "\n",
    "# Compile the graph with persistent checkpointer and in-memory store\n",
    "graph = builder.compile(checkpointer=checkpointer)#checkpointer=memory, store=across_thread_memory) #checkpointer\n",
    "\n",
    "\n",
    "# View\n",
    "try:\n",
    "    display(Image(graph.get_graph().draw_mermaid_png()))\n",
    "except:\n",
    "    print(graph.get_graph().draw_ascii(), '\\n\\n')\n",
    "    print(graph.get_graph().draw_mermaid())\n",
    "# https://mermaid.live/edit#pako:eNp1Ul2PmzAQ_CvWVlESCSjfSXynvFx-Qp9aTsgHdrBqbGTMtVfEf6-BHHdU6duOZ3Zn1nYPhSopYNhsei65wajfMqF-FRXRZjuiotOv1FZbwSUlejsMw2aTyasmTYW-XR4ymZk8b43V5_nux2NzXtDj1-b8vMcYM65bMwoLIkReW0ex-yj3N6boBDFcyXb3GUxs15TE0LzRinFBd2u4nyNQWS4BpnqxF2R2X4Ih1z2jjwAP_wa4x689_zPhBpHrzfQy8a5gPfKu5LbKzNk92gtlqKSMdMIg2yXwFxYynzFnfB63ovxaGRx44aphuv9J7qqGFNy8YX8lGG_oNu6FvaSsAAeumpeAje6oAzXVNRkh9JlEKANT0ZpmgG1ZEv0zg0wOtqch8rtS9XubVt21AsyIaC2a171wYv9OvZxquyDVT6qTBnB68qchgHv4DThIDp4fB2kchFESJUGSOvBmj1PvEPtRcAxPxyg6HeN4cODP5Ot7aRBExzSOQj9K0jA5DH8BLyP9pw\n",
    "\n",
    "\n",
    "\n",
    "# # We supply a thread ID for short-term (within-thread) memory\n",
    "# # We supply a user ID for long-term (across-thread) memory \n",
    "# config = {\"configurable\": {\"thread_id\": \"1\", \"user_id\": \"1\"}}\n",
    "\n",
    "# # User input to create a profile memory\n",
    "# input_messages = [HumanMessage(content=\"What was my last question to you?\")]\n",
    "\n",
    "# # Run the graph\n",
    "# for chunk in graph.stream({\"messages\": input_messages}, config, stream_mode=\"values\"):\n",
    "#     chunk[\"messages\"][-1].pretty_print()\n"
   ]
  },
  {
   "cell_type": "code",
   "execution_count": 11,
   "id": "8209d615-cd12-4cc4-b917-c0a6c417a551",
   "metadata": {},
   "outputs": [
    {
     "name": "stdout",
     "output_type": "stream",
     "text": [
      "================================\u001b[1m Human Message \u001b[0m=================================\n",
      "\n",
      "btw my name is Ans.\n",
      "==================================\u001b[1m Ai Message \u001b[0m==================================\n",
      "\n",
      "Nice to meet you, Ans! How can I assist you with our accounting services today?\n"
     ]
    }
   ],
   "source": [
    "# We supply a thread ID for short-term (within-thread) memory\n",
    "# We supply a user ID for long-term (across-thread) memory \n",
    "config = {\"configurable\": {\"thread_id\": \"1\", \"user_id\": \"1\"}}\n",
    "\n",
    "# User input to create a profile memory\n",
    "input_messages = [HumanMessage(content=\"btw my name is Ans.\")]\n",
    "\n",
    "# Run the graph\n",
    "for chunk in graph.stream({\"messages\": input_messages}, config, stream_mode=\"values\"):\n",
    "    chunk[\"messages\"][-1].pretty_print()\n"
   ]
  },
  {
   "cell_type": "code",
   "execution_count": null,
   "id": "244912e8-3dd1-4885-a61f-55d2b42b753d",
   "metadata": {},
   "outputs": [],
   "source": []
  },
  {
   "cell_type": "code",
   "execution_count": 13,
   "id": "92af85e2-0f83-48df-ac70-a9c792643e8f",
   "metadata": {},
   "outputs": [
    {
     "name": "stdout",
     "output_type": "stream",
     "text": [
      "================================\u001b[1m Human Message \u001b[0m=================================\n",
      "\n",
      "Hi! Do you remember my name?.\n",
      "==================================\u001b[1m Ai Message \u001b[0m==================================\n",
      "\n",
      "Hello! I don't have the ability to remember personal details like your name. How can I assist you today?\n"
     ]
    }
   ],
   "source": [
    "# We supply a thread ID for short-term (within-thread) memory\n",
    "# We supply a user ID for long-term (across-thread) memory \n",
    "config = {\"configurable\": {\"thread_id\": \"2\", \"user_id\": \"2\"}}\n",
    "\n",
    "# User input to create a profile memory\n",
    "input_messages = [HumanMessage(content=\"Hi! Do you remember my name?.\")]\n",
    "\n",
    "# Run the graph\n",
    "for chunk in graph.stream({\"messages\": input_messages}, config, stream_mode=\"values\"):\n",
    "    chunk[\"messages\"][-1].pretty_print()\n"
   ]
  },
  {
   "cell_type": "code",
   "execution_count": null,
   "id": "8c6cd8a4-0b19-41ad-a3f6-e0ebc019a6c7",
   "metadata": {},
   "outputs": [],
   "source": []
  },
  {
   "cell_type": "markdown",
   "id": "63f9a417-f37c-4de5-a8e7-6920d5939536",
   "metadata": {},
   "source": [
    "# testing basic langgraph agent "
   ]
  },
  {
   "cell_type": "code",
   "execution_count": 1,
   "id": "8ade4f9e-03b7-4ad8-9cc2-dd6b0300f776",
   "metadata": {},
   "outputs": [],
   "source": [
    "# 1) Make sure the .env from the repo root is loaded into the current process\n",
    "from dotenv import load_dotenv, find_dotenv\n",
    "load_dotenv(find_dotenv(\".env\", usecwd=True))  # searches upward from CWD\n",
    "\n",
    "import os\n",
    "assert os.getenv(\"OPENAI_API_KEY\"), \"OPENAI_API_KEY not found after loading .env\"\n",
    "\n",
    "# 2) Ensure the project 'src' is on sys.path\n",
    "import sys, os\n",
    "sys.path.insert(0, os.path.abspath(\"..\"))  # now 'src' is on path\n",
    "\n",
    "from core import settings\n",
    "# # --- Option A: import via the package (may import other agents too)\n",
    "# from agents.interrupt_agent import interrupt_agent\n",
    "from schema import (\n",
    "    ChatHistory,\n",
    "    ChatHistoryInput,\n",
    "    ChatMessage,\n",
    "    Feedback,\n",
    "    FeedbackResponse,\n",
    "    ServiceMetadata,\n",
    "    StreamInput,\n",
    "    UserInput,\n",
    ")\n",
    "\n",
    "from service.utils import (\n",
    "    convert_message_content_to_string,\n",
    "    langchain_to_chat_message,\n",
    "    remove_tool_calls,\n",
    ")\n",
    "\n",
    "from agents.basic_langgraph_agent import basic_langgraph_agent\n",
    "\n"
   ]
  },
  {
   "cell_type": "code",
   "execution_count": 2,
   "id": "59425d07-0425-420a-9d4b-336182c1b43e",
   "metadata": {},
   "outputs": [
    {
     "data": {
      "image/png": "[encoded data removed]",
      "text/plain": [
       "<IPython.core.display.Image object>"
      ]
     },
     "metadata": {},
     "output_type": "display_data"
    }
   ],
   "source": [
    "## Visualize graph\n",
    "from IPython.display import Image, display\n",
    "display(Image(basic_langgraph_agent.get_graph().draw_mermaid_png()))\n"
   ]
  },
  {
   "cell_type": "code",
   "execution_count": 5,
   "id": "4ffaf7bb-6aed-4525-88d1-a8f2e122dc92",
   "metadata": {},
   "outputs": [
    {
     "data": {
      "text/plain": [
       "{'messages': [HumanMessage(content='hi!', additional_kwargs={}, response_metadata={}, id='e06356b8-edc3-431e-9ef0-c74d0c7dcbe3'),\n",
       "  AIMessage(content='Hello! Welcome to our accounting firm. How can I assist you today?', additional_kwargs={}, response_metadata={'finish_reason': 'stop', 'model_name': 'gpt-4.1-nano-2025-04-14', 'system_fingerprint': 'fp_e91a518ddb', 'service_tier': 'default'}, id='run--4d1447b9-16a2-4321-9dc9-ec600efdb754-0')]}"
      ]
     },
     "execution_count": 5,
     "metadata": {},
     "output_type": "execute_result"
    }
   ],
   "source": [
    "# --------------------------- Minimal usage ----------------------------------\n",
    "# Example:\n",
    "from vector_databases import get_vec_client_timescale\n",
    "from memory import get_postgres_connection_string\n",
    "\n",
    "# # create timescale_db_vec_client (async version)\n",
    "# vec_client = get_vec_client_timescale(get_postgres_connection_string())\n",
    "\n",
    "\n",
    "config = {\"configurable\": {\"thread_id\": \"1\", \"user_id\": \"1\"}}\n",
    "\n",
    "# Non-streaming:\n",
    "state = await basic_langgraph_agent.ainvoke(\n",
    "    {\"messages\": \"hi!\"},\n",
    "    config=config,\n",
    ")\n",
    "state\n",
    "\n"
   ]
  },
  {
   "cell_type": "code",
   "execution_count": null,
   "id": "992ca834-79ca-4396-a445-aab92da2c1e9",
   "metadata": {},
   "outputs": [],
   "source": []
  },
  {
   "cell_type": "code",
   "execution_count": null,
   "id": "5a7ad220-627f-4963-b2a5-8b2730c8ddf8",
   "metadata": {},
   "outputs": [],
   "source": []
  },
  {
   "cell_type": "code",
   "execution_count": null,
   "id": "060aa7fe-3d38-4288-8672-22e68dc2c1af",
   "metadata": {},
   "outputs": [],
   "source": []
  },
  {
   "cell_type": "code",
   "execution_count": null,
   "id": "2d7b601c-ee27-40ea-9fa5-b2ca806c4eed",
   "metadata": {},
   "outputs": [],
   "source": []
  },
  {
   "cell_type": "code",
   "execution_count": null,
   "id": "7de4ca9d-f795-466a-bfa8-2acdc5f7e813",
   "metadata": {},
   "outputs": [],
   "source": []
  },
  {
   "cell_type": "code",
   "execution_count": null,
   "id": "f77d5346-11db-45a8-b4c4-087348aef38e",
   "metadata": {},
   "outputs": [],
   "source": []
  },
  {
   "cell_type": "code",
   "execution_count": null,
   "id": "647c64f4-4e9e-46fb-83c7-fa2f05a5a90a",
   "metadata": {},
   "outputs": [],
   "source": []
  },
  {
   "cell_type": "code",
   "execution_count": null,
   "id": "ea463bd8-a90c-4906-84c9-5e3615a4ae50",
   "metadata": {},
   "outputs": [],
   "source": []
  },
  {
   "cell_type": "code",
   "execution_count": null,
   "id": "100365c5-ed66-4bc1-b88b-1a3cd9268ae8",
   "metadata": {},
   "outputs": [],
   "source": []
  },
  {
   "cell_type": "code",
   "execution_count": null,
   "id": "cf79efae-1446-43b6-9306-5ac3e616f7ae",
   "metadata": {},
   "outputs": [],
   "source": []
  },
  {
   "cell_type": "code",
   "execution_count": null,
   "id": "d4bbc744-5d21-4b9d-a4d2-15e865784e51",
   "metadata": {},
   "outputs": [],
   "source": []
  },
  {
   "cell_type": "code",
   "execution_count": null,
   "id": "d6e668eb-ef60-4e24-98bf-5eb3ea89f1c8",
   "metadata": {},
   "outputs": [],
   "source": []
  },
  {
   "cell_type": "code",
   "execution_count": null,
   "id": "7f5bad3c-5acc-4663-ac24-e82a1232e9ab",
   "metadata": {},
   "outputs": [],
   "source": []
  },
  {
   "cell_type": "code",
   "execution_count": null,
   "id": "7a0d7d9e-2d35-412c-a6bc-35f685ee0c94",
   "metadata": {},
   "outputs": [],
   "source": []
  },
  {
   "cell_type": "code",
   "execution_count": null,
   "id": "930ccdd4-c7c6-4368-a043-1e9972eb257c",
   "metadata": {},
   "outputs": [],
   "source": []
  },
  {
   "cell_type": "code",
   "execution_count": null,
   "id": "595f52ad-c907-4836-b981-6000c745c7cd",
   "metadata": {},
   "outputs": [],
   "source": []
  },
  {
   "cell_type": "code",
   "execution_count": null,
   "id": "a96fde9b-f07a-4109-9f35-90d702812217",
   "metadata": {},
   "outputs": [],
   "source": []
  },
  {
   "cell_type": "code",
   "execution_count": null,
   "id": "e0e4cfa2-b9f5-4e2c-9ad6-f21ab2e02b94",
   "metadata": {},
   "outputs": [],
   "source": []
  },
  {
   "cell_type": "code",
   "execution_count": null,
   "id": "bbb74105-058b-405a-ace9-b6f102b42233",
   "metadata": {},
   "outputs": [],
   "source": []
  },
  {
   "cell_type": "code",
   "execution_count": null,
   "id": "ef8c1769-04ab-4985-8d1f-e2151aa1a026",
   "metadata": {},
   "outputs": [],
   "source": []
  },
  {
   "cell_type": "code",
   "execution_count": null,
   "id": "29b36a86-4b29-408c-9244-9deaed4125ba",
   "metadata": {},
   "outputs": [],
   "source": []
  },
  {
   "cell_type": "code",
   "execution_count": null,
   "id": "587d9eb0-1892-494e-89e2-3976a4a67b4e",
   "metadata": {},
   "outputs": [],
   "source": []
  },
  {
   "cell_type": "code",
   "execution_count": null,
   "id": "3807c2e8-0edb-4067-b0e4-ce467650d59b",
   "metadata": {},
   "outputs": [],
   "source": []
  },
  {
   "cell_type": "code",
   "execution_count": null,
   "id": "83136986-810f-44cb-8866-b7b9417e3df5",
   "metadata": {},
   "outputs": [],
   "source": []
  },
  {
   "cell_type": "code",
   "execution_count": null,
   "id": "6ff06652-5df0-4269-8bc0-602bfe8f2c84",
   "metadata": {},
   "outputs": [],
   "source": []
  },
  {
   "cell_type": "code",
   "execution_count": null,
   "id": "a424b28c-d759-42ba-9d35-4da48b0174e3",
   "metadata": {},
   "outputs": [],
   "source": []
  },
  {
   "cell_type": "code",
   "execution_count": null,
   "id": "f35a16f7-1422-41a6-8bdd-e86c3b98cbaa",
   "metadata": {},
   "outputs": [],
   "source": []
  },
  {
   "cell_type": "code",
   "execution_count": null,
   "id": "8eb53663-40bd-4997-aa9f-c1e513bf3c3e",
   "metadata": {},
   "outputs": [],
   "source": []
  }
 ],
 "metadata": {
  "kernelspec": {
   "display_name": "Python 3 (ipykernel)",
   "language": "python",
   "name": "python3"
  },
  "language_info": {
   "codemirror_mode": {
    "name": "ipython",
    "version": 3
   },
   "file_extension": ".py",
   "mimetype": "text/x-python",
   "name": "python",
   "nbconvert_exporter": "python",
   "pygments_lexer": "ipython3",
   "version": "3.13.3"
  }
 },
 "nbformat": 4,
 "nbformat_minor": 5
}
