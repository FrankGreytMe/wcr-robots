{
 "cells": [
  {
   "cell_type": "markdown",
   "id": "19e5aadf-ea01-4827-b249-95297c1bfb10",
   "metadata": {},
   "source": [
    "# Agent Development"
   ]
  },
  {
   "cell_type": "code",
   "execution_count": 10,
   "id": "ad7327e0-bfda-48f4-be19-8f97d4b3cd54",
   "metadata": {},
   "outputs": [],
   "source": [
    "from langgraph.graph import START, END, MessagesState, StateGraph\n",
    "from langchain_core.runnables import RunnableConfig\n",
    "from langchain_core.messages import HumanMessage, SystemMessage, AIMessage\n",
    "from langchain_openai import ChatOpenAI\n",
    "from langgraph.checkpoint.memory import MemorySaver\n",
    "from langchain_google_genai import ChatGoogleGenerativeAI\n",
    "\n",
    "# from core import get_model, settings\n",
    "\n",
    "import os\n",
    "from dotenv import load_dotenv\n",
    "load_dotenv()\n",
    "\n",
    "# Access API keys and credentials\n",
    "OPENAI_API_KEY    = os.environ[\"OPENAI_API_KEY\"]\n",
    "GEMINI_API_KEY    = os.environ[\"GEMINI_API_KEY\"]\n",
    "# TIMESCALE_DB_URI  = os.environ[\"TIMESCALE_DB_URI\"]\n",
    "# MAIN_AGENT_DB_URI = os.environ[\"MAIN_AGENT_DB_URI\"]\n",
    "# TAVILY_API_KEY    = os.environ[\"TAVILY_API_KEY\"]\n",
    "\n",
    "\n",
    "\n",
    "\n",
    "class AgentState(MessagesState, total=False):\n",
    "    \"\"\"`total=False` marks fields added here as optional (PEP 589),\n",
    "    while inherited fields (like `messages` from MessagesState) keep their original requirements.\n",
    "\n",
    "    documentation: https://typing.readthedocs.io/en/latest/spec/typeddict.html#totality\n",
    "    \"\"\"\n",
    "    # # Safety metadata from LlamaGuard (populated by guard nodes)\n",
    "    # safety: LlamaGuardOutput\n",
    "\n",
    "    # # LangGraph-managed remaining step budget for the current run\n",
    "    # remaining_steps: RemainingSteps\n",
    "\n",
    "\n",
    "MODEL_SYSTEM_MESSAGE = \"\"\" You are a helpful chatbot ...\n",
    "\n",
    "<context>\n",
    "{context}\n",
    "</context>\n",
    "\"\"\"\n",
    "\n",
    "\n",
    "context = 'context'\n",
    "\n",
    "\n",
    "async def acall_model(state: AgentState, config: RunnableConfig) -> AgentState:\n",
    "    \"\"\"Main model node:\n",
    "       - Selects the concrete model (from config or default),\n",
    "       - Runs the tool-enabled chat model,\n",
    "       - Post-checks the output with LlamaGuard,\n",
    "       - Enforces step budget if tool calls remain.\"\"\"\n",
    "    \n",
    "    # # can later decide to pace it outside the fn, if observed high latency in traces\n",
    "    # model      = get_model(config[\"configurable\"].get(\"model\", settings.DEFAULT_MODEL))\n",
    "    # model = ChatOpenAI(model=\"gpt-4.1-nano-2025-04-14\", temperature=0, max_tokens=1000)\n",
    "\n",
    "    # latency is way lower than openai\n",
    "    model = ChatGoogleGenerativeAI(\n",
    "        model       = \"gemini-2.0-flash-lite\",\n",
    "        api_key     = GEMINI_API_KEY,          # make it of tyoe secret key when wrapping in fastapi\n",
    "        temperature = 0,\n",
    "        max_tokens  = 1000\n",
    "    )\n",
    "\n",
    "    \n",
    "    system_msg = MODEL_SYSTEM_MESSAGE.format(context=context)\n",
    "    response   = await model.ainvoke(\n",
    "                                        [SystemMessage(content=system_msg)] + state[\"messages\"],\n",
    "                                        config=config\n",
    "                                    )\n",
    "    \n",
    "    return {\"messages\": [response]}\n",
    "\n",
    "# -------------------------\n",
    "# BUILD THE GRAPH\n",
    "# -------------------------\n",
    "\n",
    "builder = StateGraph(AgentState)\n",
    "\n",
    "builder.add_node(\"acall_model\", acall_model)\n",
    "builder.set_entry_point(\"acall_model\")\n",
    "builder.add_edge('acall_model', END)\n",
    "\n",
    "# Compile with an in-memory checkpointer; resume by calling invoke() on the same thread_id\n",
    "checkpointer = MemorySaver()\n",
    "\n",
    "# Compile the graph with persistent checkpointer and in-memory store\n",
    "graph = builder.compile(checkpointer=checkpointer)# store=across_thread_memory)\n",
    "\n",
    "    "
   ]
  },
  {
   "cell_type": "code",
   "execution_count": 11,
   "id": "d3111d2c-5062-41d0-a972-5496407a0579",
   "metadata": {},
   "outputs": [
    {
     "data": {
      "image/png": "[encoded data removed]",
      "text/plain": [
       "<IPython.core.display.Image object>"
      ]
     },
     "metadata": {},
     "output_type": "display_data"
    }
   ],
   "source": [
    "from IPython.display import Image, display\n",
    "# View\n",
    "try:\n",
    "    display(Image(graph.get_graph().draw_mermaid_png()))\n",
    "except:\n",
    "    print(graph.get_graph().draw_ascii(), '\\n\\n')\n",
    "    print(graph.get_graph().draw_mermaid())\n"
   ]
  },
  {
   "cell_type": "code",
   "execution_count": 12,
   "id": "11c12f3a-ceb9-48ff-b583-b871d129dc4f",
   "metadata": {},
   "outputs": [
    {
     "name": "stdout",
     "output_type": "stream",
     "text": [
      "================================\u001b[1m Human Message \u001b[0m=================================\n",
      "\n",
      "what was my name?\n",
      "==================================\u001b[1m Ai Message \u001b[0m==================================\n",
      "\n",
      "I do not have access to your name. I am a language model, and I do not retain information from previous conversations.\n"
     ]
    }
   ],
   "source": [
    "cfg = {\"configurable\": {\"user_id\":'1', \"thread_id\": '1'}}\n",
    "\n",
    "text=HumanMessage(content='what was my name?')\n",
    "# Kick off (provide initial state once)\n",
    "output = await graph.ainvoke({\"messages\": [text]}, cfg)\n",
    "for msg in output['messages']:\n",
    "    msg.pretty_print()\n"
   ]
  },
  {
   "cell_type": "code",
   "execution_count": null,
   "id": "f90b4bc3-a171-4d65-b736-6a881a8d9d46",
   "metadata": {},
   "outputs": [],
   "source": []
  },
  {
   "cell_type": "code",
   "execution_count": null,
   "id": "67dd1b0f-6682-4996-8b52-7183d76110ad",
   "metadata": {},
   "outputs": [],
   "source": []
  },
  {
   "cell_type": "code",
   "execution_count": null,
   "id": "0e13acba-8c1a-4d2d-be1a-6cab70564a6a",
   "metadata": {},
   "outputs": [],
   "source": []
  },
  {
   "cell_type": "code",
   "execution_count": null,
   "id": "3f169c1e-ede6-4923-b5bc-d1d566db5145",
   "metadata": {},
   "outputs": [],
   "source": []
  },
  {
   "cell_type": "code",
   "execution_count": null,
   "id": "1c293d7a-f935-4cd3-aa95-e8eca03b210c",
   "metadata": {},
   "outputs": [],
   "source": []
  },
  {
   "cell_type": "code",
   "execution_count": null,
   "id": "5844a97f-fb9d-4b5b-a223-5154aa37cfa6",
   "metadata": {},
   "outputs": [],
   "source": []
  },
  {
   "cell_type": "code",
   "execution_count": null,
   "id": "ad7e2552-7a47-4d49-a2f0-832066aee3ac",
   "metadata": {},
   "outputs": [],
   "source": []
  },
  {
   "cell_type": "code",
   "execution_count": null,
   "id": "c71d09c4-3ed8-44e2-bdd6-ba3795311a29",
   "metadata": {},
   "outputs": [],
   "source": []
  },
  {
   "cell_type": "code",
   "execution_count": null,
   "id": "b33c605d-6975-481b-b4bd-113cc01e1248",
   "metadata": {},
   "outputs": [],
   "source": []
  },
  {
   "cell_type": "code",
   "execution_count": null,
   "id": "14b05a23-b1cd-4430-949d-a923576239a0",
   "metadata": {},
   "outputs": [],
   "source": []
  },
  {
   "cell_type": "code",
   "execution_count": null,
   "id": "aee1a986-4de7-4157-9c78-ba562642d082",
   "metadata": {},
   "outputs": [],
   "source": []
  },
  {
   "cell_type": "code",
   "execution_count": null,
   "id": "14a1b6c2-e5f7-49cb-bd9d-b74a37d41ef8",
   "metadata": {},
   "outputs": [],
   "source": []
  },
  {
   "cell_type": "code",
   "execution_count": null,
   "id": "bd43ada9-5ad9-4293-ba87-0f8189f3377e",
   "metadata": {},
   "outputs": [],
   "source": []
  },
  {
   "cell_type": "code",
   "execution_count": null,
   "id": "6c0d78f7-fa35-44fb-8a7b-517e856c66c3",
   "metadata": {},
   "outputs": [],
   "source": []
  }
 ],
 "metadata": {
  "kernelspec": {
   "display_name": "Python 3 (ipykernel)",
   "language": "python",
   "name": "python3"
  },
  "language_info": {
   "codemirror_mode": {
    "name": "ipython",
    "version": 3
   },
   "file_extension": ".py",
   "mimetype": "text/x-python",
   "name": "python",
   "nbconvert_exporter": "python",
   "pygments_lexer": "ipython3",
   "version": "3.13.7"
  }
 },
 "nbformat": 4,
 "nbformat_minor": 5
}
